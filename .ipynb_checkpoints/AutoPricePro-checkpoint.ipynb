{
 "cells": [
  {
   "cell_type": "code",
   "execution_count": 53,
   "id": "79f58f81-f786-405f-b521-0745befa630e",
   "metadata": {},
   "outputs": [],
   "source": [
    "import pandas as pd\n",
    "import numpy as np\n",
    "from matplotlib import pyplot as plt\n",
    "from sklearn.preprocessing import StandardScaler\n",
    "from sklearn.model_selection import train_test_split\n",
    "from sklearn.ensemble import RandomForestRegressor\n",
    "from sklearn.linear_model import LogisticRegression"
   ]
  },
  {
   "cell_type": "code",
   "execution_count": 54,
   "id": "b380ab76-ffdb-4fee-9068-f52cfe169938",
   "metadata": {},
   "outputs": [
    {
     "data": {
      "text/html": [
       "<div>\n",
       "<style scoped>\n",
       "    .dataframe tbody tr th:only-of-type {\n",
       "        vertical-align: middle;\n",
       "    }\n",
       "\n",
       "    .dataframe tbody tr th {\n",
       "        vertical-align: top;\n",
       "    }\n",
       "\n",
       "    .dataframe thead th {\n",
       "        text-align: right;\n",
       "    }\n",
       "</style>\n",
       "<table border=\"1\" class=\"dataframe\">\n",
       "  <thead>\n",
       "    <tr style=\"text-align: right;\">\n",
       "      <th></th>\n",
       "      <th>manufacturer</th>\n",
       "      <th>model</th>\n",
       "      <th>year</th>\n",
       "      <th>mileage</th>\n",
       "      <th>engine</th>\n",
       "      <th>transmission</th>\n",
       "      <th>drivetrain</th>\n",
       "      <th>fuel_type</th>\n",
       "      <th>mpg</th>\n",
       "      <th>exterior_color</th>\n",
       "      <th>interior_color</th>\n",
       "      <th>accidents_or_damage</th>\n",
       "      <th>one_owner</th>\n",
       "      <th>personal_use_only</th>\n",
       "      <th>seller_name</th>\n",
       "      <th>seller_rating</th>\n",
       "      <th>driver_rating</th>\n",
       "      <th>driver_reviews_num</th>\n",
       "      <th>price_drop</th>\n",
       "      <th>price</th>\n",
       "    </tr>\n",
       "  </thead>\n",
       "  <tbody>\n",
       "    <tr>\n",
       "      <th>0</th>\n",
       "      <td>Acura</td>\n",
       "      <td>ILX Hybrid 1.5L</td>\n",
       "      <td>2013</td>\n",
       "      <td>92945.0</td>\n",
       "      <td>1.5L I-4 i-VTEC variable valve control, engine...</td>\n",
       "      <td>Automatic</td>\n",
       "      <td>Front-wheel Drive</td>\n",
       "      <td>Gasoline</td>\n",
       "      <td>39-38</td>\n",
       "      <td>Black</td>\n",
       "      <td>Parchment</td>\n",
       "      <td>0.0</td>\n",
       "      <td>0.0</td>\n",
       "      <td>0.0</td>\n",
       "      <td>Iconic Coach</td>\n",
       "      <td>NaN</td>\n",
       "      <td>4.4</td>\n",
       "      <td>12.0</td>\n",
       "      <td>300.0</td>\n",
       "      <td>13988.0</td>\n",
       "    </tr>\n",
       "    <tr>\n",
       "      <th>1</th>\n",
       "      <td>Acura</td>\n",
       "      <td>ILX Hybrid 1.5L</td>\n",
       "      <td>2013</td>\n",
       "      <td>47645.0</td>\n",
       "      <td>1.5L I4 8V MPFI SOHC Hybrid</td>\n",
       "      <td>Automatic CVT</td>\n",
       "      <td>Front-wheel Drive</td>\n",
       "      <td>Hybrid</td>\n",
       "      <td>39-38</td>\n",
       "      <td>Gray</td>\n",
       "      <td>Ebony</td>\n",
       "      <td>1.0</td>\n",
       "      <td>1.0</td>\n",
       "      <td>1.0</td>\n",
       "      <td>Kars Today</td>\n",
       "      <td>NaN</td>\n",
       "      <td>4.4</td>\n",
       "      <td>12.0</td>\n",
       "      <td>NaN</td>\n",
       "      <td>17995.0</td>\n",
       "    </tr>\n",
       "  </tbody>\n",
       "</table>\n",
       "</div>"
      ],
      "text/plain": [
       "  manufacturer            model  year  mileage  \\\n",
       "0        Acura  ILX Hybrid 1.5L  2013  92945.0   \n",
       "1        Acura  ILX Hybrid 1.5L  2013  47645.0   \n",
       "\n",
       "                                              engine   transmission  \\\n",
       "0  1.5L I-4 i-VTEC variable valve control, engine...      Automatic   \n",
       "1                        1.5L I4 8V MPFI SOHC Hybrid  Automatic CVT   \n",
       "\n",
       "          drivetrain fuel_type    mpg exterior_color interior_color  \\\n",
       "0  Front-wheel Drive  Gasoline  39-38          Black      Parchment   \n",
       "1  Front-wheel Drive    Hybrid  39-38           Gray          Ebony   \n",
       "\n",
       "   accidents_or_damage  one_owner  personal_use_only   seller_name  \\\n",
       "0                  0.0        0.0                0.0  Iconic Coach   \n",
       "1                  1.0        1.0                1.0    Kars Today   \n",
       "\n",
       "   seller_rating  driver_rating  driver_reviews_num  price_drop    price  \n",
       "0            NaN            4.4                12.0       300.0  13988.0  \n",
       "1            NaN            4.4                12.0         NaN  17995.0  "
      ]
     },
     "execution_count": 54,
     "metadata": {},
     "output_type": "execute_result"
    }
   ],
   "source": [
    "df = pd.read_csv('cars.csv')\n",
    "df.head(2)"
   ]
  },
  {
   "cell_type": "code",
   "execution_count": 3,
   "id": "0e27ed62-1c88-44f7-bedb-b5ed17f5996a",
   "metadata": {},
   "outputs": [
    {
     "data": {
      "text/html": [
       "<div>\n",
       "<style scoped>\n",
       "    .dataframe tbody tr th:only-of-type {\n",
       "        vertical-align: middle;\n",
       "    }\n",
       "\n",
       "    .dataframe tbody tr th {\n",
       "        vertical-align: top;\n",
       "    }\n",
       "\n",
       "    .dataframe thead th {\n",
       "        text-align: right;\n",
       "    }\n",
       "</style>\n",
       "<table border=\"1\" class=\"dataframe\">\n",
       "  <thead>\n",
       "    <tr style=\"text-align: right;\">\n",
       "      <th></th>\n",
       "      <th>manufacturer</th>\n",
       "      <th>model</th>\n",
       "      <th>year</th>\n",
       "      <th>mileage</th>\n",
       "      <th>engine</th>\n",
       "      <th>transmission</th>\n",
       "      <th>drivetrain</th>\n",
       "      <th>fuel_type</th>\n",
       "      <th>mpg</th>\n",
       "      <th>exterior_color</th>\n",
       "      <th>interior_color</th>\n",
       "      <th>accidents_or_damage</th>\n",
       "      <th>one_owner</th>\n",
       "      <th>personal_use_only</th>\n",
       "      <th>driver_rating</th>\n",
       "      <th>driver_reviews_num</th>\n",
       "      <th>price_drop</th>\n",
       "      <th>price</th>\n",
       "    </tr>\n",
       "  </thead>\n",
       "  <tbody>\n",
       "    <tr>\n",
       "      <th>0</th>\n",
       "      <td>Acura</td>\n",
       "      <td>ILX Hybrid 1.5L</td>\n",
       "      <td>2013</td>\n",
       "      <td>92945.0</td>\n",
       "      <td>1.5L I-4 i-VTEC variable valve control, engine...</td>\n",
       "      <td>Automatic</td>\n",
       "      <td>Front-wheel Drive</td>\n",
       "      <td>Gasoline</td>\n",
       "      <td>39-38</td>\n",
       "      <td>Black</td>\n",
       "      <td>Parchment</td>\n",
       "      <td>0.0</td>\n",
       "      <td>0.0</td>\n",
       "      <td>0.0</td>\n",
       "      <td>4.4</td>\n",
       "      <td>12.0</td>\n",
       "      <td>300.0</td>\n",
       "      <td>13988.0</td>\n",
       "    </tr>\n",
       "    <tr>\n",
       "      <th>1</th>\n",
       "      <td>Acura</td>\n",
       "      <td>ILX Hybrid 1.5L</td>\n",
       "      <td>2013</td>\n",
       "      <td>47645.0</td>\n",
       "      <td>1.5L I4 8V MPFI SOHC Hybrid</td>\n",
       "      <td>Automatic CVT</td>\n",
       "      <td>Front-wheel Drive</td>\n",
       "      <td>Hybrid</td>\n",
       "      <td>39-38</td>\n",
       "      <td>Gray</td>\n",
       "      <td>Ebony</td>\n",
       "      <td>1.0</td>\n",
       "      <td>1.0</td>\n",
       "      <td>1.0</td>\n",
       "      <td>4.4</td>\n",
       "      <td>12.0</td>\n",
       "      <td>NaN</td>\n",
       "      <td>17995.0</td>\n",
       "    </tr>\n",
       "  </tbody>\n",
       "</table>\n",
       "</div>"
      ],
      "text/plain": [
       "  manufacturer            model  year  mileage  \\\n",
       "0        Acura  ILX Hybrid 1.5L  2013  92945.0   \n",
       "1        Acura  ILX Hybrid 1.5L  2013  47645.0   \n",
       "\n",
       "                                              engine   transmission  \\\n",
       "0  1.5L I-4 i-VTEC variable valve control, engine...      Automatic   \n",
       "1                        1.5L I4 8V MPFI SOHC Hybrid  Automatic CVT   \n",
       "\n",
       "          drivetrain fuel_type    mpg exterior_color interior_color  \\\n",
       "0  Front-wheel Drive  Gasoline  39-38          Black      Parchment   \n",
       "1  Front-wheel Drive    Hybrid  39-38           Gray          Ebony   \n",
       "\n",
       "   accidents_or_damage  one_owner  personal_use_only  driver_rating  \\\n",
       "0                  0.0        0.0                0.0            4.4   \n",
       "1                  1.0        1.0                1.0            4.4   \n",
       "\n",
       "   driver_reviews_num  price_drop    price  \n",
       "0                12.0       300.0  13988.0  \n",
       "1                12.0         NaN  17995.0  "
      ]
     },
     "execution_count": 3,
     "metadata": {},
     "output_type": "execute_result"
    }
   ],
   "source": [
    "df = df.drop(['seller_name','seller_rating'], axis = 'columns')\n",
    "df.head(2)"
   ]
  },
  {
   "cell_type": "code",
   "execution_count": 4,
   "id": "161541f1-18de-4362-8d64-c2340f72a30e",
   "metadata": {},
   "outputs": [
    {
     "data": {
      "text/plain": [
       "manufacturer\n",
       "Ford             79526\n",
       "Toyota           59535\n",
       "Chevrolet        56043\n",
       "Nissan           48529\n",
       "Jeep             41665\n",
       "Mercedes-Benz    40824\n",
       "Honda            37612\n",
       "BMW              37570\n",
       "Kia              35063\n",
       "GMC              29563\n",
       "Dodge            25250\n",
       "Subaru           24767\n",
       "Volkswagen       24620\n",
       "Hyundai          22203\n",
       "Lexus            21301\n",
       "RAM              19364\n",
       "Audi             17863\n",
       "Cadillac         17794\n",
       "Mazda            15485\n",
       "Buick            14624\n",
       "Chrysler         12647\n",
       "INFINITI         12289\n",
       "Land Rover       12272\n",
       "Porsche          11461\n",
       "Lincoln          10608\n",
       "Volvo            10029\n",
       "Acura             8489\n",
       "Tesla             5883\n",
       "Mitsubishi        5743\n",
       "Jaguar            3469\n",
       "Name: count, dtype: int64"
      ]
     },
     "execution_count": 4,
     "metadata": {},
     "output_type": "execute_result"
    }
   ],
   "source": [
    "df.manufacturer.value_counts()"
   ]
  },
  {
   "cell_type": "code",
   "execution_count": 5,
   "id": "bb55e6ae-05ca-4211-85a2-7697563de1bc",
   "metadata": {},
   "outputs": [
    {
     "data": {
      "text/plain": [
       "count        762091\n",
       "unique        12187\n",
       "top       Fusion SE\n",
       "freq           3172\n",
       "Name: model, dtype: object"
      ]
     },
     "execution_count": 5,
     "metadata": {},
     "output_type": "execute_result"
    }
   ],
   "source": [
    "df.model.describe()"
   ]
  },
  {
   "cell_type": "code",
   "execution_count": 6,
   "id": "adefa671-5bd8-4675-9bf6-c99eba64c149",
   "metadata": {},
   "outputs": [
    {
     "data": {
      "text/plain": [
       "model\n",
       "Fusion SE                     3172\n",
       "Sportage LX                   2873\n",
       "Corolla LE                    2836\n",
       "GLC 300 Base 4MATIC           2718\n",
       "Sentra SV                     2652\n",
       "                              ... \n",
       "E-Class Coupe //AMG Sport        1\n",
       "E-Class E 400 Cabriolet 2D       1\n",
       "400 Base                         1\n",
       "E-Class 3.0                      1\n",
       "S60 T5 Drive-E Platinum          1\n",
       "Name: count, Length: 12187, dtype: int64"
      ]
     },
     "execution_count": 6,
     "metadata": {},
     "output_type": "execute_result"
    }
   ],
   "source": [
    "df.model.value_counts()"
   ]
  },
  {
   "cell_type": "code",
   "execution_count": 7,
   "id": "176d579f-4e26-400a-a13d-73101747fcc5",
   "metadata": {},
   "outputs": [],
   "source": [
    "model_name = [mo.split()[0] for mo in df.model]"
   ]
  },
  {
   "cell_type": "code",
   "execution_count": 8,
   "id": "7421ef26-0316-4bce-a2b9-cc6f17823ca7",
   "metadata": {},
   "outputs": [],
   "source": [
    "df['model_name'] = model_name "
   ]
  },
  {
   "cell_type": "code",
   "execution_count": 9,
   "id": "01c1962f-79cc-4ce8-87b2-75e0dba95235",
   "metadata": {},
   "outputs": [
    {
     "data": {
      "text/plain": [
       "count       762091\n",
       "unique         748\n",
       "top       Wrangler\n",
       "freq         11965\n",
       "Name: model_name, dtype: object"
      ]
     },
     "execution_count": 9,
     "metadata": {},
     "output_type": "execute_result"
    }
   ],
   "source": [
    "df.model_name.describe()"
   ]
  },
  {
   "cell_type": "code",
   "execution_count": 10,
   "id": "1fda8696-5607-4b01-a034-881ed3146562",
   "metadata": {},
   "outputs": [
    {
     "data": {
      "text/plain": [
       "count                752187\n",
       "unique                 1313\n",
       "top       6-Speed Automatic\n",
       "freq                 148597\n",
       "Name: transmission, dtype: object"
      ]
     },
     "execution_count": 10,
     "metadata": {},
     "output_type": "execute_result"
    }
   ],
   "source": [
    "df.transmission.describe()"
   ]
  },
  {
   "cell_type": "code",
   "execution_count": null,
   "id": "7bfc571a-6909-4648-a089-5e077a97848a",
   "metadata": {},
   "outputs": [],
   "source": []
  },
  {
   "cell_type": "code",
   "execution_count": 11,
   "id": "aa8e3143-5b67-4a6b-8107-8a4596168767",
   "metadata": {},
   "outputs": [],
   "source": [
    "new_transmission = ['Dual-Clutch' if ('dual-clutch' in str(tr).lower()) else\n",
    "                    'Manual' if ('manual' in str(tr).lower()) else \n",
    "                    'A/T' if ('a/t' in str(tr).lower()) else \n",
    "                    'M/T' if ('m/t' in str(tr).lower()) else \n",
    "                    'CVT' if ('cvt' in str(tr).lower()) else\n",
    "                    'Continuously Variable' if ('continuously variable' in str(tr).lower()) else\n",
    "                    'Automatic' if ('automatic' in str(tr).lower() or 'auto' in str(tr).lower()) else\n",
    "                    str(tr)\n",
    "                    for tr in df.transmission]\n"
   ]
  },
  {
   "cell_type": "code",
   "execution_count": 12,
   "id": "f9c27119-d128-4bf1-8bf9-8c8b82a6c13b",
   "metadata": {},
   "outputs": [
    {
     "data": {
      "text/plain": [
       "count        762091\n",
       "unique          155\n",
       "top       Automatic\n",
       "freq         597377\n",
       "dtype: object"
      ]
     },
     "execution_count": 12,
     "metadata": {},
     "output_type": "execute_result"
    }
   ],
   "source": [
    "new_transmission_series = pd.Series(new_transmission)\n",
    "new_transmission_series.describe()"
   ]
  },
  {
   "cell_type": "code",
   "execution_count": 13,
   "id": "ce0c8b68-eddc-479e-b0e3-99ee9a60d251",
   "metadata": {},
   "outputs": [],
   "source": [
    "df['new_transmission_series'] = new_transmission_series"
   ]
  },
  {
   "cell_type": "code",
   "execution_count": 14,
   "id": "a654ad3a-e699-4a9c-b021-dfca30e7f227",
   "metadata": {},
   "outputs": [
    {
     "data": {
      "text/plain": [
       "count                740529\n",
       "unique                   33\n",
       "top       Front-wheel Drive\n",
       "freq                 241432\n",
       "Name: drivetrain, dtype: object"
      ]
     },
     "execution_count": 14,
     "metadata": {},
     "output_type": "execute_result"
    }
   ],
   "source": [
    "df.drivetrain.describe()"
   ]
  },
  {
   "cell_type": "code",
   "execution_count": 15,
   "id": "3cdde48f-7d84-477c-b039-cb67394a765d",
   "metadata": {},
   "outputs": [
    {
     "data": {
      "text/plain": [
       "count       739164\n",
       "unique          36\n",
       "top       Gasoline\n",
       "freq        644644\n",
       "Name: fuel_type, dtype: object"
      ]
     },
     "execution_count": 15,
     "metadata": {},
     "output_type": "execute_result"
    }
   ],
   "source": [
    "df.fuel_type.describe()"
   ]
  },
  {
   "cell_type": "code",
   "execution_count": 16,
   "id": "eca7f4c6-e456-4584-95e2-bae51ec1c53a",
   "metadata": {},
   "outputs": [
    {
     "data": {
      "text/plain": [
       "manufacturer                    0\n",
       "model                           0\n",
       "year                            0\n",
       "mileage                       506\n",
       "engine                      15050\n",
       "transmission                 9904\n",
       "drivetrain                  21562\n",
       "fuel_type                   22927\n",
       "mpg                        142071\n",
       "exterior_color               8859\n",
       "interior_color              56975\n",
       "accidents_or_damage         24212\n",
       "one_owner                   31483\n",
       "personal_use_only           24852\n",
       "driver_rating               31632\n",
       "driver_reviews_num              0\n",
       "price_drop                 351979\n",
       "price                           0\n",
       "model_name                      0\n",
       "new_transmission_series         0\n",
       "dtype: int64"
      ]
     },
     "execution_count": 16,
     "metadata": {},
     "output_type": "execute_result"
    }
   ],
   "source": [
    "df.isna().sum()"
   ]
  },
  {
   "cell_type": "code",
   "execution_count": 17,
   "id": "1a6b7149-dc10-49bf-8739-f4bbf7e6a2bb",
   "metadata": {},
   "outputs": [
    {
     "data": {
      "text/plain": [
       "manufacturer                   0\n",
       "model                          0\n",
       "year                           0\n",
       "mileage                        0\n",
       "engine                     15050\n",
       "transmission                9904\n",
       "drivetrain                 21562\n",
       "fuel_type                  22927\n",
       "mpg                            0\n",
       "exterior_color                 0\n",
       "interior_color                 0\n",
       "accidents_or_damage        24212\n",
       "one_owner                      0\n",
       "personal_use_only          24852\n",
       "driver_rating              31632\n",
       "driver_reviews_num             0\n",
       "price_drop                     0\n",
       "price                          0\n",
       "model_name                     0\n",
       "new_transmission_series        0\n",
       "dtype: int64"
      ]
     },
     "execution_count": 17,
     "metadata": {},
     "output_type": "execute_result"
    }
   ],
   "source": [
    "df.price_drop = df['price_drop'].fillna(0)\n",
    "df.interior_color = df.interior_color.fillna(df.exterior_color)\n",
    "df.exterior_color = df.interior_color.fillna(df.interior_color)\n",
    "df.interior_color = df.interior_color.fillna('Black')\n",
    "df.exterior_color = df.exterior_color.fillna('Black')\n",
    "df.one_owner = df.one_owner.fillna(0)\n",
    "df.mileage = df.mileage.fillna(int(df.mileage.mean().round()))\n",
    "df.mpg = df.mpg.fillna('0-0')\n",
    "df.isna().sum()"
   ]
  },
  {
   "cell_type": "code",
   "execution_count": 18,
   "id": "b4444bc5-1548-4534-9f4f-7a6baa96fe8d",
   "metadata": {},
   "outputs": [
    {
     "data": {
      "text/plain": [
       "count     762091\n",
       "unique       865\n",
       "top          0-0\n",
       "freq      149336\n",
       "Name: mpg, dtype: object"
      ]
     },
     "execution_count": 18,
     "metadata": {},
     "output_type": "execute_result"
    }
   ],
   "source": [
    "df.mpg.describe()"
   ]
  },
  {
   "cell_type": "code",
   "execution_count": 19,
   "id": "0423b98f-6104-4071-9216-58cf724ba1d2",
   "metadata": {},
   "outputs": [
    {
     "data": {
      "text/plain": [
       "mpg\n",
       "21-14      1\n",
       "18-13      1\n",
       "13-26      1\n",
       "14-23.0    1\n",
       "11-30.2    1\n",
       "10-31      1\n",
       "19-25.0    1\n",
       "15-12      1\n",
       "11-30      1\n",
       "10-8       1\n",
       "24-0.0     1\n",
       "51-46.0    1\n",
       "26-37.0    1\n",
       "26-39.0    1\n",
       "18-24.0    1\n",
       "12-0.0     1\n",
       "30-35.6    1\n",
       "49-45      1\n",
       "40-81      1\n",
       "50-45.0    1\n",
       "11-16.0    1\n",
       "20-22.0    1\n",
       "29-39.5    1\n",
       "27-38.0    1\n",
       "21-20      1\n",
       "23-26.9    1\n",
       "22-16      1\n",
       "10-7       1\n",
       "23-31.5    1\n",
       "22-34.0    1\n",
       "21-36      1\n",
       "22-28.5    1\n",
       "20-23.0    1\n",
       "22-21      1\n",
       "16-20.0    1\n",
       "12-8       1\n",
       "25-28.0    1\n",
       "11-25.6    1\n",
       "20-25.0    1\n",
       "9-34       1\n",
       "42-42      1\n",
       "28-35.0    1\n",
       "32-33      1\n",
       "25-34.0    1\n",
       "43-36      1\n",
       "23-31.0    1\n",
       "29-42      1\n",
       "46-41      1\n",
       "47-47.0    1\n",
       "19-27.5    1\n",
       "Name: count, dtype: int64"
      ]
     },
     "execution_count": 19,
     "metadata": {},
     "output_type": "execute_result"
    }
   ],
   "source": [
    "df.mpg.value_counts()[-50:]"
   ]
  },
  {
   "cell_type": "code",
   "execution_count": 20,
   "id": "753a758f-a9f7-40b9-802e-39b2518d9d09",
   "metadata": {},
   "outputs": [
    {
     "data": {
      "text/plain": [
       "a    0\n",
       "b    0\n",
       "dtype: int64"
      ]
     },
     "execution_count": 20,
     "metadata": {},
     "output_type": "execute_result"
    }
   ],
   "source": [
    "data = {}\n",
    "temp = pd.DataFrame(data)\n",
    "\n",
    "# Split the values into two separate columns\n",
    "temp[['a', 'b']] = df['mpg'].str.split('-', expand=True)\n",
    "temp.b = temp.b.fillna(0)\n",
    "temp.isna().sum()"
   ]
  },
  {
   "cell_type": "code",
   "execution_count": 21,
   "id": "7ec62567-e254-4448-8697-d255148226c9",
   "metadata": {},
   "outputs": [],
   "source": [
    "# Convert the values to float, then to integer with error handling\n",
    "temp['a'] = temp['a'].astype(float).astype(int)\n",
    "temp['b'] = temp['b'].astype(float).astype(int)\n",
    "\n",
    "# Create a new column with the desired format\n",
    "df['mpg_lower'] = temp['a'].where(temp['a'] < temp['b'], temp['b'])\n",
    "df['mpg_upper'] = temp['b'].where(temp['a'] < temp['b'], temp['a'])"
   ]
  },
  {
   "cell_type": "code",
   "execution_count": 22,
   "id": "906a405e-7cbd-4ff9-87c5-a94d0a0f27cf",
   "metadata": {},
   "outputs": [
    {
     "data": {
      "text/plain": [
       "count     762091\n",
       "unique      6647\n",
       "top        Black\n",
       "freq      301626\n",
       "Name: exterior_color, dtype: object"
      ]
     },
     "execution_count": 22,
     "metadata": {},
     "output_type": "execute_result"
    }
   ],
   "source": [
    "df.exterior_color.describe()"
   ]
  },
  {
   "cell_type": "code",
   "execution_count": 23,
   "id": "c142d95d-df86-447e-8855-f8b528c6f5e6",
   "metadata": {},
   "outputs": [],
   "source": [
    "colors = [\"red\", \"orange\", \"yellow\", \"green\", \"blue\", \"purple\", \"pink\", \"brown\", \"black\", \"white\", \"gray\", \"cyan\", \"magenta\", \"turquoise\", \"lavender\", \"peach\", \"maroon\", \"olive\", \"navy\", \"teal\", \"gold\", \"silver\", \"indigo\", \"violet\", \"beige\", \"crimson\", \"lime\", \"sky blue\", \"coral\", \"mint green\", \"tan\", \"khaki\", \"auburn\", \"burgundy\", \"chartreuse\", \"cyan\", \"fuchsia\", \"ivory\", \"magenta\", \"salmon\", \"periwinkle\", \"russet\", \"scarlet\", \"sepia\", \"tangerine\", \"vermilion\", \"emerald\", \"turquoise\", \"teal\", \"azure\", \"cerulean\", \"amethyst\", \"sapphire\", \"ruby\", \"emerald\", \"topaz\", \"rose\", \"malachite\", \"cobalt\", \"alabaster\", \"sienna\", \"taupe\", \"wisteria\", \"aquamarine\", \"jasmine\", \"pearl\", \"celadon\", \"umber\", \"obsidian\", \"lavender\", \"mauve\", \"periwinkle\", \"orchid\", \"creme\", \"sky blue\", \"mint\", \"champagne\", \"steel blue\", \"coffee\", \"honey\", \"mustard\", \"cream\"]\n",
    "df['exterior_color'] = df['exterior_color'].apply(lambda row: next((color for color in colors if color.lower() in row.lower()), None))\n",
    "df['interior_color'] = df['interior_color'].apply(lambda row: next((color for color in colors if color.lower() in row.lower()), None))\n"
   ]
  },
  {
   "cell_type": "code",
   "execution_count": 24,
   "id": "489691c1-c0c9-4ce9-84af-25d9d0eabfb6",
   "metadata": {},
   "outputs": [
    {
     "data": {
      "text/plain": [
       "count     595887\n",
       "unique        54\n",
       "top        black\n",
       "freq      405970\n",
       "Name: exterior_color, dtype: object"
      ]
     },
     "execution_count": 24,
     "metadata": {},
     "output_type": "execute_result"
    }
   ],
   "source": [
    "df.exterior_color.describe()"
   ]
  },
  {
   "cell_type": "code",
   "execution_count": 25,
   "id": "825155e3-d615-49ec-9a68-1cf85dcd6dd4",
   "metadata": {},
   "outputs": [
    {
     "data": {
      "text/plain": [
       "exterior_color\n",
       "black        405970\n",
       "gray          77483\n",
       "beige         27409\n",
       "red           16086\n",
       "white         15643\n",
       "tan           13080\n",
       "brown         12592\n",
       "silver         6699\n",
       "blue           6566\n",
       "ivory          5796\n",
       "cream          1235\n",
       "taupe          1091\n",
       "orange          865\n",
       "green           688\n",
       "navy            666\n",
       "coffee          473\n",
       "gold            444\n",
       "maroon          340\n",
       "sepia           322\n",
       "auburn          287\n",
       "pearl           278\n",
       "yellow          274\n",
       "burgundy        273\n",
       "khaki           238\n",
       "umber           193\n",
       "russet          184\n",
       "indigo          142\n",
       "champagne       119\n",
       "purple           67\n",
       "obsidian         51\n",
       "orchid           44\n",
       "ruby             43\n",
       "scarlet          42\n",
       "lime             32\n",
       "olive            28\n",
       "alabaster        27\n",
       "teal             21\n",
       "creme            20\n",
       "turquoise        12\n",
       "sienna           11\n",
       "sapphire          8\n",
       "amethyst          7\n",
       "pink              6\n",
       "crimson           6\n",
       "topaz             6\n",
       "rose              4\n",
       "azure             3\n",
       "violet            3\n",
       "cerulean          3\n",
       "coral             2\n",
       "mint              2\n",
       "emerald           1\n",
       "celadon           1\n",
       "peach             1\n",
       "Name: count, dtype: int64"
      ]
     },
     "execution_count": 25,
     "metadata": {},
     "output_type": "execute_result"
    }
   ],
   "source": [
    "df.exterior_color.value_counts()"
   ]
  },
  {
   "cell_type": "code",
   "execution_count": 26,
   "id": "f7541615-6956-481f-a4b0-136d6acb7940",
   "metadata": {},
   "outputs": [
    {
     "data": {
      "text/plain": [
       "count     595887\n",
       "unique        54\n",
       "top        black\n",
       "freq      405970\n",
       "Name: interior_color, dtype: object"
      ]
     },
     "execution_count": 26,
     "metadata": {},
     "output_type": "execute_result"
    }
   ],
   "source": [
    "df.interior_color.describe()"
   ]
  },
  {
   "cell_type": "code",
   "execution_count": 60,
   "id": "00181207-4d2d-49b5-ba2c-7bac1af4777a",
   "metadata": {},
   "outputs": [
    {
     "data": {
      "text/plain": [
       "count                         747041\n",
       "unique                          6903\n",
       "top       2.0L I4 16V GDI DOHC Turbo\n",
       "freq                           75545\n",
       "Name: engine, dtype: object"
      ]
     },
     "execution_count": 60,
     "metadata": {},
     "output_type": "execute_result"
    }
   ],
   "source": [
    "df.engine.describe()"
   ]
  },
  {
   "cell_type": "code",
   "execution_count": 61,
   "id": "d31f978b-f1bf-45b5-a9fe-7095c0fe2b43",
   "metadata": {},
   "outputs": [
    {
     "data": {
      "text/plain": [
       "engine\n",
       "2.0L I4 16V GDI DOHC Turbo             75545\n",
       "3.6L V6 24V MPFI DOHC                  35437\n",
       "3.6L V6 24V GDI DOHC                   27020\n",
       "2.0L I4 16V MPFI DOHC                  19534\n",
       "1.5L I4 16V GDI DOHC Turbo             18173\n",
       "                                       ...  \n",
       "L                                          1\n",
       "450 CID V8                                 1\n",
       "302CI V8                                   1\n",
       "5.8L 8 Cylinder                            1\n",
       "2.5L 5-cylinder turbocharged engine        1\n",
       "Name: count, Length: 6903, dtype: int64"
      ]
     },
     "execution_count": 61,
     "metadata": {},
     "output_type": "execute_result"
    }
   ],
   "source": [
    "df.engine.value_counts()"
   ]
  },
  {
   "cell_type": "code",
   "execution_count": 130,
   "id": "f4ee86ce-c40f-4488-a5d8-74eee9b60c21",
   "metadata": {},
   "outputs": [],
   "source": [
    "new_engine = ['SOHC Hybrid' if ('sohc hybrid' in str(en).lower()) else\n",
    "                    'MPFI DOHC' if ('mpfi dohc' in str(en).lower()) else \n",
    "                    'MPFI SOHC' if ('mpfi sohc' in str(en).lower()) else \n",
    "                    'SPFI DOHC' if ('spfi dohc' in str(en).lower()) else \n",
    "                    'SPFI SOHC' if ('spfi sohc' in str(en).lower()) else \n",
    "                    'DOHC Twin Turbo Hybrid' if ('dohc twin turbo Hybrid' in str(en).lower()) else \n",
    "                    'DOHC Turbo' if ('dohc turbo' in str(en).lower()) else \n",
    "                    'GDI DOHC' if ('gdi dohc' in str(en).lower()) else \n",
    "                    'GDI SOHC' if ('gdi sohc' in str(en).lower()) else  \n",
    "                    'MPFI SOHC' if ('mpfi sohc' in str(en).lower()) else  \n",
    "                    'MPFI DOHC' if ('mpfi dohc' in str(en).lower()) else  \n",
    "                    'OHV Turbo Diesel' if ('OHV Turbo Diesel'.lower() in str(en).lower()) else  \n",
    "                    'PDI DOHC Hybrid' if ('PDI DOHC Hybrid'.lower() in str(en).lower()) else  \n",
    "                    'PDI DOHC' if ('PDI DOHC'.lower() in str(en).lower()) else  \n",
    "                    'GDI OHV' if ('GDI OHV'.lower() in str(en).lower()) else  \n",
    "                    'MPFI OHV' if ('MPFI OHV'.lower() in str(en).lower()) else  \n",
    "                    'Intercooled Turbo' if ('Intercooled Turbo'.lower() in str(en).lower()) else  \n",
    "                    'Cylinder Engine' if ('Cylinder Engine'.lower() in str(en).lower()) else  \n",
    "                    'gasoline direct injection' if ('gasoline direct injection'.lower() in str(en).lower()) else  \n",
    "                    'Thunderjet' if ('Thunderjet'.lower() in str(en).lower()) else  \n",
    "                    'Coyote' if ('Coyote'.lower() in str(en).lower()) else  \n",
    "                    'Diesel Twin Turbo' if ('Diesel Twin Turbo'.lower() in str(en).lower()) else  \n",
    "                    'Turbocharged Diesel' if ('Turbocharged Diesel'.lower() in str(en).lower()) else  \n",
    "                    'Turbodiesel' if ('Turbodiesel'.lower() in str(en).lower()) else  \n",
    "                    'DOHC' if ('DOHC'.lower() in str(en).lower()) else  \n",
    "                    'SOHC' if ('SOHC'.lower() in str(en).lower()) else  \n",
    "                    'CID' if ('CID'.lower() in str(en).lower()) else  \n",
    "                    'Electric' if ('Electric'.lower() in str(en).lower()) else  \n",
    "                    'Diesel' if ('Diesel'.lower() in str(en).lower()) else  \n",
    "                    'GDI' if ('GDI'.lower() in str(en).lower()) else  \n",
    "                    '8 Cylinder' if ('8 Cylinder'.lower() in str(en).lower()) else  \n",
    "                    'turbo diesel' if ('turbo diesel'.lower() in str(en).lower()) else  \n",
    "                    'BOOST TURBO' if ('BOOST TURBO'.lower() in str(en).lower()) else  \n",
    "                    'ci V8' if ('ci V8'.lower() in str(en).lower()) else  \n",
    "                    'Twin Turbo' if ('Twin Turbo'.lower() in str(en).lower()) else  \n",
    "                    'Flex Fuel' if ('Flex Fuel'.lower() in str(en).lower()) else  \n",
    "                    'BBC' if ('BBC'.lower() in str(en).lower()) else  \n",
    "                    'PFDI' if ('PFDI'.lower() in str(en).lower()) else  \n",
    "                    'Roller' if ('Roller'.lower() in str(en).lower()) else  \n",
    "                    'Liter' if ('Liter'.lower() in str(en).lower()) else  \n",
    "                    'barrel' if ('barrel'.lower() in str(en).lower()) else  \n",
    "                    'EFI' if ('EFI'.lower() in str(en).lower()) else  \n",
    "                    'Stroker' if ('Stroker'.lower() in str(en).lower()) else  \n",
    "                    'BLUME' if ('BLUME'.lower() in str(en).lower()) else  \n",
    "                    'ECOBOOST' if ('ECOBOOST'.lower() in str(en).lower()) else  \n",
    "                    'Regular Unleaded' if ('Regular Unleaded'.lower() in str(en).lower()) else  \n",
    "                    'MultiAir2 Tigershark' if ('MultiAir2 Tigershark'.lower() in str(en).lower()) else  \n",
    "                    'Turbocharged Gas' if ('Turbocharged Gas'.lower() in str(en).lower()) else  \n",
    "                    'Intercooled Supercharger Premium Unleaded' if ('Intercooled Supercharger Premium Unleaded'.lower() in str(en).lower()) else  \n",
    "                    'Vortec' if ('Vortec'.lower() in str(en).lower()) else  \n",
    "                    'Premium Unleaded' if ('Premium Unleaded'.lower() in str(en).lower()) else  \n",
    "                    'Intercooled Supercharger Premium Unleaded' if ('Intercooled Supercharger Premium Unleaded'.lower() in str(en).lower()) else  \n",
    "                    'Regular Unleaded' if ('Regular Unleaded'.lower() in str(en).lower()) else  \n",
    "                    'DEVCT' if ('DEVCT'.lower() in str(en).lower()) else  \n",
    "                    'Triton' if ('Triton'.lower() in str(en).lower()) else  \n",
    "                    'VVT' if ('VVT'.lower() in str(en).lower()) else  \n",
    "                    'HEMI' if ('HEMI'.lower() in str(en).lower()) else  \n",
    "                    'Power Tech' if ('Power Tech'.lower() in str(en).lower()) else  \n",
    "                    'MIVEC' if ('MIVEC'.lower() in str(en).lower()) else  \n",
    "                    'Cyl' if ('Cyl'.lower() in str(en).lower()) else  \n",
    "                    'Turbocharged' if ('Turbocharged'.lower() in str(en).lower()) else  \n",
    "                    'SIDI' if ('SIDI'.lower() in str(en).lower()) else  \n",
    "                    str(en) \n",
    "                    for en in df.engine]"
   ]
  },
  {
   "cell_type": "code",
   "execution_count": 131,
   "id": "c9173b1a-0f4c-4114-8828-2a801258f9e3",
   "metadata": {},
   "outputs": [],
   "source": [
    "df['new_engine'] = new_engine"
   ]
  },
  {
   "cell_type": "code",
   "execution_count": 132,
   "id": "0033be81-c3f0-482f-a90f-d02e4a13a343",
   "metadata": {},
   "outputs": [
    {
     "data": {
      "text/plain": [
       "count        762091\n",
       "unique         2042\n",
       "top       MPFI DOHC\n",
       "freq         171840\n",
       "Name: new_engine, dtype: object"
      ]
     },
     "execution_count": 132,
     "metadata": {},
     "output_type": "execute_result"
    }
   ],
   "source": [
    "df.new_engine.describe()"
   ]
  },
  {
   "cell_type": "code",
   "execution_count": 133,
   "id": "5d1869cd-73d6-401d-98f3-ab69ac0a958d",
   "metadata": {
    "scrolled": true
   },
   "outputs": [
    {
     "data": {
      "text/plain": [
       "new_engine\n",
       "1.4L I4                                                                                                                                                                                                    57\n",
       "5.0L V8 16V OHV                                                                                                                                                                                            56\n",
       "MIVEC                                                                                                                                                                                                      54\n",
       "3.5L TI-VCT V6 ENGINE                                                                                                                                                                                      53\n",
       "DEVCT                                                                                                                                                                                                      51\n",
       "Gas I4 2.4L/144                                                                                                                                                                                            51\n",
       "1.8L I4                                                                                                                                                                                                    50\n",
       "3.7L V6                                                                                                                                                                                                    50\n",
       "6.0L V8                                                                                                                                                                                                    48\n",
       "3.6L V6 24V                                                                                                                                                                                                47\n",
       "4.4L                                                                                                                                                                                                       47\n",
       "8 SELECT                                                                                                                                                                                                   46\n",
       "2.4L H-4 cyl                                                                                                                                                                                               45\n",
       "2.0L IVCT I4 HEV                                                                                                                                                                                           44\n",
       "4.6L V-8 variable valve control, engine with 300HP                                                                                                                                                         43\n",
       "2L I-4 engine with 115HP                                                                                                                                                                                   42\n",
       "6 Cyl - 3.60 L                                                                                                                                                                                             42\n",
       "4L V-6 engine with 210HP                                                                                                                                                                                   41\n",
       "2.4L I-4 variable valve control, engine with 166HP                                                                                                                                                         41\n",
       "EcoTec3 5.3L V8                                                                                                                                                                                            40\n",
       "6.2L V-8 variable valve control, engine with 316HP                                                                                                                                                         40\n",
       "6 Cyl - 3.6 L                                                                                                                                                                                              39\n",
       "5.0L V8                                                                                                                                                                                                    38\n",
       "Engine, 6.2L V8 with Dynamic Fuel Management Direct Injection and Variable Valve Timing, includes aluminum block construction (420 hp [313.2 kW] @ 5600 rpm, 460 lb-ft of torque [623.7 Nm] @ 4100 rpm)    37\n",
       "SPFI SOHC                                                                                                                                                                                                  34\n",
       "Gas/Ethanol V8 5.3L/                                                                                                                                                                                       34\n",
       "Gas I4 1.8L/110                                                                                                                                                                                            34\n",
       "3.00L                                                                                                                                                                                                      33\n",
       "5.7L V8 16V SPFI OHV                                                                                                                                                                                       33\n",
       "2.0L I4 Turbocharged                                                                                                                                                                                       32\n",
       "4 Cyl - 2.5 L                                                                                                                                                                                              31\n",
       "4L V-6 engine with 207HP                                                                                                                                                                                   31\n",
       "6L V-8 engine with 400HP                                                                                                                                                                                   31\n",
       "Gas V6 3.6L/222.6                                                                                                                                                                                          31\n",
       "3.8L V-6 engine with 197HP                                                                                                                                                                                 31\n",
       "0                                                                                                                                                                                                          30\n",
       "6.2L V8                                                                                                                                                                                                    30\n",
       "Engine, 2.0L Turbo, 4-cylinder, SIDI (237 hp [177 kW] @ 5000 rpm, 258 lb-ft of torque [350 N-m] @ 1500-4000 rpm)                                                                                           30\n",
       "1.8L I-4 i-VTEC variable valve control, engine with 143HP                                                                                                                                                  30\n",
       "5.0L V8 16V 4 BBL OHV                                                                                                                                                                                      29\n",
       "4.2L I6 12V 2 BBL OHV                                                                                                                                                                                      29\n",
       "2.5L 24V                                                                                                                                                                                                   28\n",
       "3ZR-FAE                                                                                                                                                                                                    28\n",
       "5.0L V8 16V SPFI OHV                                                                                                                                                                                       27\n",
       "EcoTec3 6.2L V8                                                                                                                                                                                            27\n",
       "I6                                                                                                                                                                                                         26\n",
       "4 Cyl - 2 L                                                                                                                                                                                                26\n",
       "2.3L I4 16V                                                                                                                                                                                                26\n",
       "6.2L V-8 engine with 426HP                                                                                                                                                                                 25\n",
       "1.4L                                                                                                                                                                                                       25\n",
       "Name: count, dtype: int64"
      ]
     },
     "execution_count": 133,
     "metadata": {},
     "output_type": "execute_result"
    }
   ],
   "source": [
    "df.new_engine.value_counts()[100:150]"
   ]
  },
  {
   "cell_type": "code",
   "execution_count": 27,
   "id": "1837fade-914d-4a94-a0dd-fd47e5e1079f",
   "metadata": {},
   "outputs": [
    {
     "data": {
      "text/html": [
       "<div>\n",
       "<style scoped>\n",
       "    .dataframe tbody tr th:only-of-type {\n",
       "        vertical-align: middle;\n",
       "    }\n",
       "\n",
       "    .dataframe tbody tr th {\n",
       "        vertical-align: top;\n",
       "    }\n",
       "\n",
       "    .dataframe thead th {\n",
       "        text-align: right;\n",
       "    }\n",
       "</style>\n",
       "<table border=\"1\" class=\"dataframe\">\n",
       "  <thead>\n",
       "    <tr style=\"text-align: right;\">\n",
       "      <th></th>\n",
       "      <th>manufacturer</th>\n",
       "      <th>model</th>\n",
       "      <th>year</th>\n",
       "      <th>mileage</th>\n",
       "      <th>engine</th>\n",
       "      <th>transmission</th>\n",
       "      <th>drivetrain</th>\n",
       "      <th>fuel_type</th>\n",
       "      <th>mpg</th>\n",
       "      <th>exterior_color</th>\n",
       "      <th>...</th>\n",
       "      <th>one_owner</th>\n",
       "      <th>personal_use_only</th>\n",
       "      <th>driver_rating</th>\n",
       "      <th>driver_reviews_num</th>\n",
       "      <th>price_drop</th>\n",
       "      <th>price</th>\n",
       "      <th>model_name</th>\n",
       "      <th>new_transmission_series</th>\n",
       "      <th>mpg_lower</th>\n",
       "      <th>mpg_upper</th>\n",
       "    </tr>\n",
       "  </thead>\n",
       "  <tbody>\n",
       "    <tr>\n",
       "      <th>0</th>\n",
       "      <td>Acura</td>\n",
       "      <td>ILX Hybrid 1.5L</td>\n",
       "      <td>2013</td>\n",
       "      <td>92945.0</td>\n",
       "      <td>1.5L I-4 i-VTEC variable valve control, engine...</td>\n",
       "      <td>Automatic</td>\n",
       "      <td>Front-wheel Drive</td>\n",
       "      <td>Gasoline</td>\n",
       "      <td>39-38</td>\n",
       "      <td>None</td>\n",
       "      <td>...</td>\n",
       "      <td>0.0</td>\n",
       "      <td>0.0</td>\n",
       "      <td>4.4</td>\n",
       "      <td>12.0</td>\n",
       "      <td>300.0</td>\n",
       "      <td>13988.0</td>\n",
       "      <td>ILX</td>\n",
       "      <td>Automatic</td>\n",
       "      <td>38</td>\n",
       "      <td>39</td>\n",
       "    </tr>\n",
       "    <tr>\n",
       "      <th>1</th>\n",
       "      <td>Acura</td>\n",
       "      <td>ILX Hybrid 1.5L</td>\n",
       "      <td>2013</td>\n",
       "      <td>47645.0</td>\n",
       "      <td>1.5L I4 8V MPFI SOHC Hybrid</td>\n",
       "      <td>Automatic CVT</td>\n",
       "      <td>Front-wheel Drive</td>\n",
       "      <td>Hybrid</td>\n",
       "      <td>39-38</td>\n",
       "      <td>None</td>\n",
       "      <td>...</td>\n",
       "      <td>1.0</td>\n",
       "      <td>1.0</td>\n",
       "      <td>4.4</td>\n",
       "      <td>12.0</td>\n",
       "      <td>0.0</td>\n",
       "      <td>17995.0</td>\n",
       "      <td>ILX</td>\n",
       "      <td>CVT</td>\n",
       "      <td>38</td>\n",
       "      <td>39</td>\n",
       "    </tr>\n",
       "    <tr>\n",
       "      <th>2</th>\n",
       "      <td>Acura</td>\n",
       "      <td>ILX Hybrid 1.5L</td>\n",
       "      <td>2013</td>\n",
       "      <td>53422.0</td>\n",
       "      <td>1.5L I4 8V MPFI SOHC Hybrid</td>\n",
       "      <td>Automatic CVT</td>\n",
       "      <td>Front-wheel Drive</td>\n",
       "      <td>Hybrid</td>\n",
       "      <td>39-38</td>\n",
       "      <td>None</td>\n",
       "      <td>...</td>\n",
       "      <td>1.0</td>\n",
       "      <td>1.0</td>\n",
       "      <td>4.4</td>\n",
       "      <td>12.0</td>\n",
       "      <td>500.0</td>\n",
       "      <td>17000.0</td>\n",
       "      <td>ILX</td>\n",
       "      <td>CVT</td>\n",
       "      <td>38</td>\n",
       "      <td>39</td>\n",
       "    </tr>\n",
       "    <tr>\n",
       "      <th>3</th>\n",
       "      <td>Acura</td>\n",
       "      <td>ILX Hybrid 1.5L</td>\n",
       "      <td>2013</td>\n",
       "      <td>117598.0</td>\n",
       "      <td>1.5L I4 8V MPFI SOHC Hybrid</td>\n",
       "      <td>Automatic CVT</td>\n",
       "      <td>Front-wheel Drive</td>\n",
       "      <td>Hybrid</td>\n",
       "      <td>39-38</td>\n",
       "      <td>None</td>\n",
       "      <td>...</td>\n",
       "      <td>1.0</td>\n",
       "      <td>1.0</td>\n",
       "      <td>4.4</td>\n",
       "      <td>12.0</td>\n",
       "      <td>675.0</td>\n",
       "      <td>14958.0</td>\n",
       "      <td>ILX</td>\n",
       "      <td>CVT</td>\n",
       "      <td>38</td>\n",
       "      <td>39</td>\n",
       "    </tr>\n",
       "    <tr>\n",
       "      <th>4</th>\n",
       "      <td>Acura</td>\n",
       "      <td>ILX Hybrid 1.5L</td>\n",
       "      <td>2013</td>\n",
       "      <td>114865.0</td>\n",
       "      <td>1.5L I4 8V MPFI SOHC Hybrid</td>\n",
       "      <td>Automatic CVT</td>\n",
       "      <td>Front-wheel Drive</td>\n",
       "      <td>Hybrid</td>\n",
       "      <td>39-38</td>\n",
       "      <td>None</td>\n",
       "      <td>...</td>\n",
       "      <td>0.0</td>\n",
       "      <td>1.0</td>\n",
       "      <td>4.4</td>\n",
       "      <td>12.0</td>\n",
       "      <td>300.0</td>\n",
       "      <td>14498.0</td>\n",
       "      <td>ILX</td>\n",
       "      <td>CVT</td>\n",
       "      <td>38</td>\n",
       "      <td>39</td>\n",
       "    </tr>\n",
       "  </tbody>\n",
       "</table>\n",
       "<p>5 rows × 22 columns</p>\n",
       "</div>"
      ],
      "text/plain": [
       "  manufacturer            model  year   mileage  \\\n",
       "0        Acura  ILX Hybrid 1.5L  2013   92945.0   \n",
       "1        Acura  ILX Hybrid 1.5L  2013   47645.0   \n",
       "2        Acura  ILX Hybrid 1.5L  2013   53422.0   \n",
       "3        Acura  ILX Hybrid 1.5L  2013  117598.0   \n",
       "4        Acura  ILX Hybrid 1.5L  2013  114865.0   \n",
       "\n",
       "                                              engine   transmission  \\\n",
       "0  1.5L I-4 i-VTEC variable valve control, engine...      Automatic   \n",
       "1                        1.5L I4 8V MPFI SOHC Hybrid  Automatic CVT   \n",
       "2                        1.5L I4 8V MPFI SOHC Hybrid  Automatic CVT   \n",
       "3                        1.5L I4 8V MPFI SOHC Hybrid  Automatic CVT   \n",
       "4                        1.5L I4 8V MPFI SOHC Hybrid  Automatic CVT   \n",
       "\n",
       "          drivetrain fuel_type    mpg exterior_color  ... one_owner  \\\n",
       "0  Front-wheel Drive  Gasoline  39-38           None  ...       0.0   \n",
       "1  Front-wheel Drive    Hybrid  39-38           None  ...       1.0   \n",
       "2  Front-wheel Drive    Hybrid  39-38           None  ...       1.0   \n",
       "3  Front-wheel Drive    Hybrid  39-38           None  ...       1.0   \n",
       "4  Front-wheel Drive    Hybrid  39-38           None  ...       0.0   \n",
       "\n",
       "   personal_use_only  driver_rating  driver_reviews_num  price_drop    price  \\\n",
       "0                0.0            4.4                12.0       300.0  13988.0   \n",
       "1                1.0            4.4                12.0         0.0  17995.0   \n",
       "2                1.0            4.4                12.0       500.0  17000.0   \n",
       "3                1.0            4.4                12.0       675.0  14958.0   \n",
       "4                1.0            4.4                12.0       300.0  14498.0   \n",
       "\n",
       "   model_name  new_transmission_series mpg_lower mpg_upper  \n",
       "0         ILX                Automatic        38        39  \n",
       "1         ILX                      CVT        38        39  \n",
       "2         ILX                      CVT        38        39  \n",
       "3         ILX                      CVT        38        39  \n",
       "4         ILX                      CVT        38        39  \n",
       "\n",
       "[5 rows x 22 columns]"
      ]
     },
     "execution_count": 27,
     "metadata": {},
     "output_type": "execute_result"
    }
   ],
   "source": [
    "df.head(5)"
   ]
  },
  {
   "cell_type": "code",
   "execution_count": 28,
   "id": "ed513da7-47d9-4c3d-8c4f-b6becbf4bf31",
   "metadata": {},
   "outputs": [],
   "source": [
    "df = df.dropna()"
   ]
  },
  {
   "cell_type": "code",
   "execution_count": 29,
   "id": "41c88502-6b14-4815-845b-375a29777f0c",
   "metadata": {},
   "outputs": [],
   "source": [
    "scaler = StandardScaler()\n",
    "numerical_columns = ['mpg_lower','mpg_upper','year', 'price', 'mileage', 'accidents_or_damage', 'one_owner', 'personal_use_only', 'driver_rating', 'driver_reviews_num', 'price_drop']\n",
    "df.loc[:, numerical_columns] = scaler.fit_transform(df[numerical_columns])"
   ]
  },
  {
   "cell_type": "code",
   "execution_count": 30,
   "id": "027b61b1-9d0d-4aba-a173-c267e28087d3",
   "metadata": {},
   "outputs": [],
   "source": [
    "def remove_outliers_iqr(data, column, k=1.5):\n",
    "    Q1 = np.percentile(data[column], 25)\n",
    "    Q3 = np.percentile(data[column], 75)\n",
    "    IQR = Q3 - Q1\n",
    "    lower_bound = Q1 - k * IQR\n",
    "    upper_bound = Q3 + k * IQR\n",
    "    return data[(data[column] >= lower_bound) & (data[column] <= upper_bound)]"
   ]
  },
  {
   "cell_type": "code",
   "execution_count": 31,
   "id": "3e331764-be29-4166-94ed-0f17229a667b",
   "metadata": {},
   "outputs": [],
   "source": [
    "#df.year = remove_outliers_iqr(df,'year')\n",
    "df = remove_outliers_iqr(df, 'price', k=1.5)\n",
    "df = remove_outliers_iqr(df, 'year', k=1.5)\n",
    "df = remove_outliers_iqr(df, 'mileage', k=1.5)\n",
    "df = remove_outliers_iqr(df, 'driver_reviews_num', k=1.5)\n",
    "df = remove_outliers_iqr(df, 'price_drop', k=1.5)\n",
    "df = remove_outliers_iqr(df, 'mpg_lower', k=1.5)\n",
    "df = remove_outliers_iqr(df, 'mpg_upper', k=1.5)"
   ]
  },
  {
   "cell_type": "code",
   "execution_count": 32,
   "id": "77e1b42f-456d-4cc9-8851-cfae7671aa70",
   "metadata": {},
   "outputs": [
    {
     "data": {
      "text/html": [
       "<div>\n",
       "<style scoped>\n",
       "    .dataframe tbody tr th:only-of-type {\n",
       "        vertical-align: middle;\n",
       "    }\n",
       "\n",
       "    .dataframe tbody tr th {\n",
       "        vertical-align: top;\n",
       "    }\n",
       "\n",
       "    .dataframe thead th {\n",
       "        text-align: right;\n",
       "    }\n",
       "</style>\n",
       "<table border=\"1\" class=\"dataframe\">\n",
       "  <thead>\n",
       "    <tr style=\"text-align: right;\">\n",
       "      <th></th>\n",
       "      <th>year</th>\n",
       "      <th>mileage</th>\n",
       "      <th>accidents_or_damage</th>\n",
       "      <th>one_owner</th>\n",
       "      <th>personal_use_only</th>\n",
       "      <th>driver_rating</th>\n",
       "      <th>driver_reviews_num</th>\n",
       "      <th>price_drop</th>\n",
       "      <th>price</th>\n",
       "      <th>mpg_lower</th>\n",
       "      <th>mpg_upper</th>\n",
       "    </tr>\n",
       "  </thead>\n",
       "  <tbody>\n",
       "    <tr>\n",
       "      <th>count</th>\n",
       "      <td>350765.000000</td>\n",
       "      <td>350765.000000</td>\n",
       "      <td>350765.000000</td>\n",
       "      <td>350765.000000</td>\n",
       "      <td>350765.000000</td>\n",
       "      <td>350765.000000</td>\n",
       "      <td>350765.000000</td>\n",
       "      <td>350765.000000</td>\n",
       "      <td>350765.000000</td>\n",
       "      <td>350765.000000</td>\n",
       "      <td>350765.000000</td>\n",
       "    </tr>\n",
       "    <tr>\n",
       "      <th>mean</th>\n",
       "      <td>0.129893</td>\n",
       "      <td>-0.078938</td>\n",
       "      <td>0.012067</td>\n",
       "      <td>0.040083</td>\n",
       "      <td>-0.006168</td>\n",
       "      <td>0.103408</td>\n",
       "      <td>-0.079607</td>\n",
       "      <td>-0.185498</td>\n",
       "      <td>-0.003632</td>\n",
       "      <td>0.318666</td>\n",
       "      <td>0.350129</td>\n",
       "    </tr>\n",
       "    <tr>\n",
       "      <th>std</th>\n",
       "      <td>0.692263</td>\n",
       "      <td>0.809775</td>\n",
       "      <td>1.007187</td>\n",
       "      <td>0.996310</td>\n",
       "      <td>1.002148</td>\n",
       "      <td>0.818475</td>\n",
       "      <td>0.647732</td>\n",
       "      <td>0.424160</td>\n",
       "      <td>0.004846</td>\n",
       "      <td>0.472137</td>\n",
       "      <td>0.454413</td>\n",
       "    </tr>\n",
       "    <tr>\n",
       "      <th>min</th>\n",
       "      <td>-1.861237</td>\n",
       "      <td>-1.341270</td>\n",
       "      <td>-0.564418</td>\n",
       "      <td>-1.074452</td>\n",
       "      <td>-1.411408</td>\n",
       "      <td>-13.243788</td>\n",
       "      <td>-0.808400</td>\n",
       "      <td>-0.523125</td>\n",
       "      <td>-0.015330</td>\n",
       "      <td>-1.104889</td>\n",
       "      <td>-0.820913</td>\n",
       "    </tr>\n",
       "    <tr>\n",
       "      <th>25%</th>\n",
       "      <td>-0.421243</td>\n",
       "      <td>-0.718840</td>\n",
       "      <td>-0.564418</td>\n",
       "      <td>-1.074452</td>\n",
       "      <td>-1.411408</td>\n",
       "      <td>-0.089580</td>\n",
       "      <td>-0.605428</td>\n",
       "      <td>-0.523125</td>\n",
       "      <td>-0.007143</td>\n",
       "      <td>-0.042125</td>\n",
       "      <td>0.039907</td>\n",
       "    </tr>\n",
       "    <tr>\n",
       "      <th>50%</th>\n",
       "      <td>0.298754</td>\n",
       "      <td>-0.237962</td>\n",
       "      <td>-0.564418</td>\n",
       "      <td>0.930707</td>\n",
       "      <td>0.708512</td>\n",
       "      <td>0.275815</td>\n",
       "      <td>-0.256318</td>\n",
       "      <td>-0.367243</td>\n",
       "      <td>-0.004401</td>\n",
       "      <td>0.276705</td>\n",
       "      <td>0.298153</td>\n",
       "    </tr>\n",
       "    <tr>\n",
       "      <th>75%</th>\n",
       "      <td>0.538753</td>\n",
       "      <td>0.434211</td>\n",
       "      <td>-0.564418</td>\n",
       "      <td>0.930707</td>\n",
       "      <td>0.708512</td>\n",
       "      <td>0.641209</td>\n",
       "      <td>0.312001</td>\n",
       "      <td>0.007068</td>\n",
       "      <td>-0.000659</td>\n",
       "      <td>0.595534</td>\n",
       "      <td>0.642481</td>\n",
       "    </tr>\n",
       "    <tr>\n",
       "      <th>max</th>\n",
       "      <td>1.258750</td>\n",
       "      <td>2.327918</td>\n",
       "      <td>1.771738</td>\n",
       "      <td>0.930707</td>\n",
       "      <td>0.708512</td>\n",
       "      <td>1.371999</td>\n",
       "      <td>1.862701</td>\n",
       "      <td>1.364785</td>\n",
       "      <td>0.012456</td>\n",
       "      <td>1.870851</td>\n",
       "      <td>1.503301</td>\n",
       "    </tr>\n",
       "  </tbody>\n",
       "</table>\n",
       "</div>"
      ],
      "text/plain": [
       "                year        mileage  accidents_or_damage      one_owner  \\\n",
       "count  350765.000000  350765.000000        350765.000000  350765.000000   \n",
       "mean        0.129893      -0.078938             0.012067       0.040083   \n",
       "std         0.692263       0.809775             1.007187       0.996310   \n",
       "min        -1.861237      -1.341270            -0.564418      -1.074452   \n",
       "25%        -0.421243      -0.718840            -0.564418      -1.074452   \n",
       "50%         0.298754      -0.237962            -0.564418       0.930707   \n",
       "75%         0.538753       0.434211            -0.564418       0.930707   \n",
       "max         1.258750       2.327918             1.771738       0.930707   \n",
       "\n",
       "       personal_use_only  driver_rating  driver_reviews_num     price_drop  \\\n",
       "count      350765.000000  350765.000000       350765.000000  350765.000000   \n",
       "mean           -0.006168       0.103408           -0.079607      -0.185498   \n",
       "std             1.002148       0.818475            0.647732       0.424160   \n",
       "min            -1.411408     -13.243788           -0.808400      -0.523125   \n",
       "25%            -1.411408      -0.089580           -0.605428      -0.523125   \n",
       "50%             0.708512       0.275815           -0.256318      -0.367243   \n",
       "75%             0.708512       0.641209            0.312001       0.007068   \n",
       "max             0.708512       1.371999            1.862701       1.364785   \n",
       "\n",
       "               price      mpg_lower      mpg_upper  \n",
       "count  350765.000000  350765.000000  350765.000000  \n",
       "mean       -0.003632       0.318666       0.350129  \n",
       "std         0.004846       0.472137       0.454413  \n",
       "min        -0.015330      -1.104889      -0.820913  \n",
       "25%        -0.007143      -0.042125       0.039907  \n",
       "50%        -0.004401       0.276705       0.298153  \n",
       "75%        -0.000659       0.595534       0.642481  \n",
       "max         0.012456       1.870851       1.503301  "
      ]
     },
     "execution_count": 32,
     "metadata": {},
     "output_type": "execute_result"
    }
   ],
   "source": [
    "df.describe()"
   ]
  },
  {
   "cell_type": "code",
   "execution_count": 33,
   "id": "22fbc5dc-6443-4177-a414-d9e90dfd9fbc",
   "metadata": {},
   "outputs": [
    {
     "data": {
      "image/png": "[encoded data removed]",
      "text/plain": [
       "<Figure size 640x480 with 1 Axes>"
      ]
     },
     "metadata": {},
     "output_type": "display_data"
    }
   ],
   "source": [
    "plt.xlabel('year')\n",
    "plt.ylabel('price')\n",
    "plt.scatter(df.year, df.price,marker='*',color = 'red')\n",
    "plt.show()  "
   ]
  },
  {
   "cell_type": "code",
   "execution_count": 34,
   "id": "c5dab18c-d16e-44e6-8719-d8eef1298eca",
   "metadata": {},
   "outputs": [],
   "source": [
    "manu = pd.get_dummies(df['manufacturer'])\n",
    "mo = pd.get_dummies(df['model_name'])\n",
    "tr = pd.get_dummies(df['new_transmission_series'])\n",
    "dr = pd.get_dummies(df['drivetrain'])\n",
    "fu = pd.get_dummies(df['fuel_type'])\n",
    "mp = pd.get_dummies(df['mpg'])\n",
    "ex = pd.get_dummies(df['exterior_color'])\n",
    "inter = pd.get_dummies(df['interior_color'])"
   ]
  },
  {
   "cell_type": "code",
   "execution_count": 35,
   "id": "33279a01-182b-471b-8139-9eea6148613e",
   "metadata": {},
   "outputs": [
    {
     "name": "stdout",
     "output_type": "stream",
     "text": [
      "(350765, 22)\n"
     ]
    }
   ],
   "source": [
    "print(df.shape)"
   ]
  },
  {
   "cell_type": "code",
   "execution_count": 36,
   "id": "5986f27f-42a5-45f0-a17f-db2eacb1a97a",
   "metadata": {},
   "outputs": [],
   "source": [
    "newDf = pd.concat([df.loc[:, numerical_columns],manu,mo,tr,dr,fu,mp,ex,inter],axis = 'columns')"
   ]
  },
  {
   "cell_type": "code",
   "execution_count": 37,
   "id": "27213ad4-08f9-4fdb-a646-091cdc746a78",
   "metadata": {},
   "outputs": [
    {
     "data": {
      "text/plain": [
       "(350765, 1114)"
      ]
     },
     "execution_count": 37,
     "metadata": {},
     "output_type": "execute_result"
    }
   ],
   "source": [
    "newDf.shape"
   ]
  },
  {
   "cell_type": "code",
   "execution_count": 38,
   "id": "9eba9abc-a600-4a8a-9740-e6498fd258d6",
   "metadata": {},
   "outputs": [
    {
     "data": {
      "text/html": [
       "<div>\n",
       "<style scoped>\n",
       "    .dataframe tbody tr th:only-of-type {\n",
       "        vertical-align: middle;\n",
       "    }\n",
       "\n",
       "    .dataframe tbody tr th {\n",
       "        vertical-align: top;\n",
       "    }\n",
       "\n",
       "    .dataframe thead th {\n",
       "        text-align: right;\n",
       "    }\n",
       "</style>\n",
       "<table border=\"1\" class=\"dataframe\">\n",
       "  <thead>\n",
       "    <tr style=\"text-align: right;\">\n",
       "      <th></th>\n",
       "      <th>mpg_lower</th>\n",
       "      <th>mpg_upper</th>\n",
       "      <th>year</th>\n",
       "      <th>price</th>\n",
       "      <th>mileage</th>\n",
       "      <th>accidents_or_damage</th>\n",
       "      <th>one_owner</th>\n",
       "      <th>personal_use_only</th>\n",
       "      <th>driver_rating</th>\n",
       "      <th>driver_reviews_num</th>\n",
       "      <th>...</th>\n",
       "      <th>sienna</th>\n",
       "      <th>silver</th>\n",
       "      <th>tan</th>\n",
       "      <th>taupe</th>\n",
       "      <th>teal</th>\n",
       "      <th>topaz</th>\n",
       "      <th>umber</th>\n",
       "      <th>violet</th>\n",
       "      <th>white</th>\n",
       "      <th>yellow</th>\n",
       "    </tr>\n",
       "  </thead>\n",
       "  <tbody>\n",
       "    <tr>\n",
       "      <th>85</th>\n",
       "      <td>-0.254678</td>\n",
       "      <td>-0.132257</td>\n",
       "      <td>-1.381239</td>\n",
       "      <td>-0.009238</td>\n",
       "      <td>2.077152</td>\n",
       "      <td>1.771738</td>\n",
       "      <td>-1.074452</td>\n",
       "      <td>0.708512</td>\n",
       "      <td>0.275815</td>\n",
       "      <td>-0.784043</td>\n",
       "      <td>...</td>\n",
       "      <td>False</td>\n",
       "      <td>False</td>\n",
       "      <td>False</td>\n",
       "      <td>True</td>\n",
       "      <td>False</td>\n",
       "      <td>False</td>\n",
       "      <td>False</td>\n",
       "      <td>False</td>\n",
       "      <td>False</td>\n",
       "      <td>False</td>\n",
       "    </tr>\n",
       "    <tr>\n",
       "      <th>86</th>\n",
       "      <td>-0.254678</td>\n",
       "      <td>-0.132257</td>\n",
       "      <td>-1.861237</td>\n",
       "      <td>-0.006506</td>\n",
       "      <td>0.627143</td>\n",
       "      <td>1.771738</td>\n",
       "      <td>-1.074452</td>\n",
       "      <td>0.708512</td>\n",
       "      <td>0.275815</td>\n",
       "      <td>-0.702855</td>\n",
       "      <td>...</td>\n",
       "      <td>False</td>\n",
       "      <td>False</td>\n",
       "      <td>False</td>\n",
       "      <td>False</td>\n",
       "      <td>False</td>\n",
       "      <td>False</td>\n",
       "      <td>False</td>\n",
       "      <td>False</td>\n",
       "      <td>True</td>\n",
       "      <td>False</td>\n",
       "    </tr>\n",
       "    <tr>\n",
       "      <th>87</th>\n",
       "      <td>-0.254678</td>\n",
       "      <td>-0.132257</td>\n",
       "      <td>-1.861237</td>\n",
       "      <td>-0.009949</td>\n",
       "      <td>1.856767</td>\n",
       "      <td>-0.564418</td>\n",
       "      <td>-1.074452</td>\n",
       "      <td>-1.411408</td>\n",
       "      <td>0.275815</td>\n",
       "      <td>-0.702855</td>\n",
       "      <td>...</td>\n",
       "      <td>False</td>\n",
       "      <td>False</td>\n",
       "      <td>False</td>\n",
       "      <td>False</td>\n",
       "      <td>False</td>\n",
       "      <td>False</td>\n",
       "      <td>False</td>\n",
       "      <td>False</td>\n",
       "      <td>False</td>\n",
       "      <td>False</td>\n",
       "    </tr>\n",
       "    <tr>\n",
       "      <th>88</th>\n",
       "      <td>-0.254678</td>\n",
       "      <td>-0.132257</td>\n",
       "      <td>-1.381239</td>\n",
       "      <td>-0.008606</td>\n",
       "      <td>1.201190</td>\n",
       "      <td>-0.564418</td>\n",
       "      <td>-1.074452</td>\n",
       "      <td>0.708512</td>\n",
       "      <td>0.275815</td>\n",
       "      <td>-0.784043</td>\n",
       "      <td>...</td>\n",
       "      <td>False</td>\n",
       "      <td>False</td>\n",
       "      <td>True</td>\n",
       "      <td>False</td>\n",
       "      <td>False</td>\n",
       "      <td>False</td>\n",
       "      <td>False</td>\n",
       "      <td>False</td>\n",
       "      <td>False</td>\n",
       "      <td>False</td>\n",
       "    </tr>\n",
       "    <tr>\n",
       "      <th>93</th>\n",
       "      <td>-0.254678</td>\n",
       "      <td>-0.132257</td>\n",
       "      <td>-1.621238</td>\n",
       "      <td>-0.008741</td>\n",
       "      <td>0.751892</td>\n",
       "      <td>-0.564418</td>\n",
       "      <td>-1.074452</td>\n",
       "      <td>-1.411408</td>\n",
       "      <td>-0.454975</td>\n",
       "      <td>-0.751568</td>\n",
       "      <td>...</td>\n",
       "      <td>False</td>\n",
       "      <td>False</td>\n",
       "      <td>False</td>\n",
       "      <td>False</td>\n",
       "      <td>False</td>\n",
       "      <td>False</td>\n",
       "      <td>False</td>\n",
       "      <td>False</td>\n",
       "      <td>False</td>\n",
       "      <td>False</td>\n",
       "    </tr>\n",
       "  </tbody>\n",
       "</table>\n",
       "<p>5 rows × 1114 columns</p>\n",
       "</div>"
      ],
      "text/plain": [
       "    mpg_lower  mpg_upper      year     price   mileage  accidents_or_damage  \\\n",
       "85  -0.254678  -0.132257 -1.381239 -0.009238  2.077152             1.771738   \n",
       "86  -0.254678  -0.132257 -1.861237 -0.006506  0.627143             1.771738   \n",
       "87  -0.254678  -0.132257 -1.861237 -0.009949  1.856767            -0.564418   \n",
       "88  -0.254678  -0.132257 -1.381239 -0.008606  1.201190            -0.564418   \n",
       "93  -0.254678  -0.132257 -1.621238 -0.008741  0.751892            -0.564418   \n",
       "\n",
       "    one_owner  personal_use_only  driver_rating  driver_reviews_num  ...  \\\n",
       "85  -1.074452           0.708512       0.275815           -0.784043  ...   \n",
       "86  -1.074452           0.708512       0.275815           -0.702855  ...   \n",
       "87  -1.074452          -1.411408       0.275815           -0.702855  ...   \n",
       "88  -1.074452           0.708512       0.275815           -0.784043  ...   \n",
       "93  -1.074452          -1.411408      -0.454975           -0.751568  ...   \n",
       "\n",
       "    sienna  silver    tan  taupe   teal  topaz  umber  violet  white  yellow  \n",
       "85   False   False  False   True  False  False  False   False  False   False  \n",
       "86   False   False  False  False  False  False  False   False   True   False  \n",
       "87   False   False  False  False  False  False  False   False  False   False  \n",
       "88   False   False   True  False  False  False  False   False  False   False  \n",
       "93   False   False  False  False  False  False  False   False  False   False  \n",
       "\n",
       "[5 rows x 1114 columns]"
      ]
     },
     "execution_count": 38,
     "metadata": {},
     "output_type": "execute_result"
    }
   ],
   "source": [
    "newDf.head()"
   ]
  },
  {
   "cell_type": "code",
   "execution_count": 40,
   "id": "a1e22fb3-5665-4863-a75f-505c796aff7d",
   "metadata": {},
   "outputs": [],
   "source": [
    "newDf.to_csv('updatedDataset.csv')"
   ]
  },
  {
   "cell_type": "code",
   "execution_count": 41,
   "id": "920d519c-2697-4693-b609-71acbf463c33",
   "metadata": {},
   "outputs": [],
   "source": [
    "y = newDf.price\n",
    "X = newDf.drop('price',axis = 1)"
   ]
  },
  {
   "cell_type": "code",
   "execution_count": 42,
   "id": "bc9754d3-a45a-443c-97d9-c5bb83784643",
   "metadata": {},
   "outputs": [],
   "source": [
    "X_train, X_test, y_train, y_test = train_test_split(X,y,test_size = 0.2)"
   ]
  },
  {
   "cell_type": "code",
   "execution_count": 55,
   "id": "4b88b3f2-8054-4980-a353-12643ffd619d",
   "metadata": {},
   "outputs": [],
   "source": [
    "model = RandomForestRegressor()"
   ]
  },
  {
   "cell_type": "code",
   "execution_count": 56,
   "id": "ebdc0fa8-7678-4718-a8d5-2e049473051d",
   "metadata": {},
   "outputs": [
    {
     "data": {
      "text/html": [
       "<style>#sk-container-id-2 {color: black;}#sk-container-id-2 pre{padding: 0;}#sk-container-id-2 div.sk-toggleable {background-color: white;}#sk-container-id-2 label.sk-toggleable__label {cursor: pointer;display: block;width: 100%;margin-bottom: 0;padding: 0.3em;box-sizing: border-box;text-align: center;}#sk-container-id-2 label.sk-toggleable__label-arrow:before {content: \"▸\";float: left;margin-right: 0.25em;color: #696969;}#sk-container-id-2 label.sk-toggleable__label-arrow:hover:before {color: black;}#sk-container-id-2 div.sk-estimator:hover label.sk-toggleable__label-arrow:before {color: black;}#sk-container-id-2 div.sk-toggleable__content {max-height: 0;max-width: 0;overflow: hidden;text-align: left;background-color: #f0f8ff;}#sk-container-id-2 div.sk-toggleable__content pre {margin: 0.2em;color: black;border-radius: 0.25em;background-color: #f0f8ff;}#sk-container-id-2 input.sk-toggleable__control:checked~div.sk-toggleable__content {max-height: 200px;max-width: 100%;overflow: auto;}#sk-container-id-2 input.sk-toggleable__control:checked~label.sk-toggleable__label-arrow:before {content: \"▾\";}#sk-container-id-2 div.sk-estimator input.sk-toggleable__control:checked~label.sk-toggleable__label {background-color: #d4ebff;}#sk-container-id-2 div.sk-label input.sk-toggleable__control:checked~label.sk-toggleable__label {background-color: #d4ebff;}#sk-container-id-2 input.sk-hidden--visually {border: 0;clip: rect(1px 1px 1px 1px);clip: rect(1px, 1px, 1px, 1px);height: 1px;margin: -1px;overflow: hidden;padding: 0;position: absolute;width: 1px;}#sk-container-id-2 div.sk-estimator {font-family: monospace;background-color: #f0f8ff;border: 1px dotted black;border-radius: 0.25em;box-sizing: border-box;margin-bottom: 0.5em;}#sk-container-id-2 div.sk-estimator:hover {background-color: #d4ebff;}#sk-container-id-2 div.sk-parallel-item::after {content: \"\";width: 100%;border-bottom: 1px solid gray;flex-grow: 1;}#sk-container-id-2 div.sk-label:hover label.sk-toggleable__label {background-color: #d4ebff;}#sk-container-id-2 div.sk-serial::before {content: \"\";position: absolute;border-left: 1px solid gray;box-sizing: border-box;top: 0;bottom: 0;left: 50%;z-index: 0;}#sk-container-id-2 div.sk-serial {display: flex;flex-direction: column;align-items: center;background-color: white;padding-right: 0.2em;padding-left: 0.2em;position: relative;}#sk-container-id-2 div.sk-item {position: relative;z-index: 1;}#sk-container-id-2 div.sk-parallel {display: flex;align-items: stretch;justify-content: center;background-color: white;position: relative;}#sk-container-id-2 div.sk-item::before, #sk-container-id-2 div.sk-parallel-item::before {content: \"\";position: absolute;border-left: 1px solid gray;box-sizing: border-box;top: 0;bottom: 0;left: 50%;z-index: -1;}#sk-container-id-2 div.sk-parallel-item {display: flex;flex-direction: column;z-index: 1;position: relative;background-color: white;}#sk-container-id-2 div.sk-parallel-item:first-child::after {align-self: flex-end;width: 50%;}#sk-container-id-2 div.sk-parallel-item:last-child::after {align-self: flex-start;width: 50%;}#sk-container-id-2 div.sk-parallel-item:only-child::after {width: 0;}#sk-container-id-2 div.sk-dashed-wrapped {border: 1px dashed gray;margin: 0 0.4em 0.5em 0.4em;box-sizing: border-box;padding-bottom: 0.4em;background-color: white;}#sk-container-id-2 div.sk-label label {font-family: monospace;font-weight: bold;display: inline-block;line-height: 1.2em;}#sk-container-id-2 div.sk-label-container {text-align: center;}#sk-container-id-2 div.sk-container {/* jupyter's `normalize.less` sets `[hidden] { display: none; }` but bootstrap.min.css set `[hidden] { display: none !important; }` so we also need the `!important` here to be able to override the default hidden behavior on the sphinx rendered scikit-learn.org. See: https://github.com/scikit-learn/scikit-learn/issues/21755 */display: inline-block !important;position: relative;}#sk-container-id-2 div.sk-text-repr-fallback {display: none;}</style><div id=\"sk-container-id-2\" class=\"sk-top-container\"><div class=\"sk-text-repr-fallback\"><pre>RandomForestRegressor()</pre><b>In a Jupyter environment, please rerun this cell to show the HTML representation or trust the notebook. <br />On GitHub, the HTML representation is unable to render, please try loading this page with nbviewer.org.</b></div><div class=\"sk-container\" hidden><div class=\"sk-item\"><div class=\"sk-estimator sk-toggleable\"><input class=\"sk-toggleable__control sk-hidden--visually\" id=\"sk-estimator-id-2\" type=\"checkbox\" checked><label for=\"sk-estimator-id-2\" class=\"sk-toggleable__label sk-toggleable__label-arrow\">RandomForestRegressor</label><div class=\"sk-toggleable__content\"><pre>RandomForestRegressor()</pre></div></div></div></div></div>"
      ],
      "text/plain": [
       "RandomForestRegressor()"
      ]
     },
     "execution_count": 56,
     "metadata": {},
     "output_type": "execute_result"
    }
   ],
   "source": [
    "model.fit(X_train,y_train)"
   ]
  },
  {
   "cell_type": "code",
   "execution_count": 57,
   "id": "cfa9d33a-cff5-47a0-8e02-6d2dd57b0111",
   "metadata": {},
   "outputs": [
    {
     "data": {
      "text/plain": [
       "0.9332936821986029"
      ]
     },
     "execution_count": 57,
     "metadata": {},
     "output_type": "execute_result"
    }
   ],
   "source": [
    "model.score(X_test,y_test)"
   ]
  },
  {
   "cell_type": "code",
   "execution_count": 58,
   "id": "8ed2c028-d044-438a-b578-a3812a6fc770",
   "metadata": {},
   "outputs": [
    {
     "data": {
      "text/plain": [
       "0.9906976588360689"
      ]
     },
     "execution_count": 58,
     "metadata": {},
     "output_type": "execute_result"
    }
   ],
   "source": [
    "model.score(X_train,y_train)"
   ]
  },
  {
   "cell_type": "code",
   "execution_count": 59,
   "id": "4fba25ed-09c3-4664-a0c1-6f524bdb6e52",
   "metadata": {},
   "outputs": [],
   "source": [
    "from sklearn.model_selection import KFold"
   ]
  },
  {
   "cell_type": "code",
   "execution_count": null,
   "id": "48bc65d2-bcdf-4a33-8cd8-33f7e8706b6f",
   "metadata": {},
   "outputs": [],
   "source": [
    "KFold()"
   ]
  },
  {
   "cell_type": "code",
   "execution_count": null,
   "id": "bf48ed21-3b3f-4f70-87ef-e880cf4cdc7f",
   "metadata": {},
   "outputs": [],
   "source": []
  }
 ],
 "metadata": {
  "kernelspec": {
   "display_name": "Python 3 (ipykernel)",
   "language": "python",
   "name": "python3"
  },
  "language_info": {
   "codemirror_mode": {
    "name": "ipython",
    "version": 3
   },
   "file_extension": ".py",
   "mimetype": "text/x-python",
   "name": "python",
   "nbconvert_exporter": "python",
   "pygments_lexer": "ipython3",
   "version": "3.8.5"
  }
 },
 "nbformat": 4,
 "nbformat_minor": 5
}
